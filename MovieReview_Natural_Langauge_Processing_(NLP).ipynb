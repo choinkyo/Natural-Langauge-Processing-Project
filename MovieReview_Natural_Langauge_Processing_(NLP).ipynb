{
  "nbformat": 4,
  "nbformat_minor": 0,
  "metadata": {
    "colab": {
      "name": "MovieReview_Natural Langauge Processing (NLP).ipynb",
      "provenance": [],
      "collapsed_sections": [],
      "include_colab_link": true
    },
    "language_info": {
      "codemirror_mode": {
        "name": "ipython",
        "version": 3
      },
      "file_extension": ".py",
      "mimetype": "text/x-python",
      "name": "python",
      "nbconvert_exporter": "python",
      "pygments_lexer": "ipython3",
      "version": "3.5.2"
    },
    "kernelspec": {
      "name": "python3",
      "display_name": "Python 3"
    },
    "accelerator": "GPU"
  },
  "cells": [
    {
      "cell_type": "markdown",
      "metadata": {
        "id": "view-in-github",
        "colab_type": "text"
      },
      "source": [
        "<a href=\"https://colab.research.google.com/github/choinkyo/Natural-Langauge-Processing-Project/blob/master/MovieReview_Natural_Langauge_Processing_(NLP).ipynb\" target=\"_parent\"><img src=\"https://colab.research.google.com/assets/colab-badge.svg\" alt=\"Open In Colab\"/></a>"
      ]
    },
    {
      "cell_type": "markdown",
      "metadata": {
        "id": "VRpnoDo9CiXM"
      },
      "source": [
        "# Classifying movie reviews: a binary classification example\n",
        "\n",
        "Two-class classification, or binary classification, may be the most widely applied kind of machine learning problem. In this example, we \n",
        "will learn to classify movie reviews into \"positive\" reviews and \"negative\" reviews, just based on the text content of the reviews.\n",
        "\n",
        "---\n",
        "\n"
      ]
    },
    {
      "cell_type": "code",
      "metadata": {
        "id": "fMdXWRCvti9d",
        "colab": {
          "base_uri": "https://localhost:8080/",
          "height": 677
        },
        "outputId": "641aaef0-f765-4a40-a933-5de13971f663"
      },
      "source": [
        "%tensorflow_version 1.14\n",
        "%matplotlib inline\n",
        "import warnings\n",
        "warnings.filterwarnings('ignore')\n",
        "\n",
        "import tensorflow as tf\n",
        "tf.logging.set_verbosity(tf.logging.ERROR)\n",
        "\n",
        "import keras\n",
        "from keras.datasets import imdb\n",
        "keras.__version__\n",
        "\n",
        "!pip install numpy==1.16.1\n",
        "import numpy as np"
      ],
      "execution_count": 1,
      "outputs": [
        {
          "output_type": "stream",
          "name": "stdout",
          "text": [
            "`%tensorflow_version` only switches the major version: 1.x or 2.x.\n",
            "You set: `1.14`. This will be interpreted as: `1.x`.\n",
            "\n",
            "\n",
            "TensorFlow 1.x selected.\n"
          ]
        },
        {
          "output_type": "stream",
          "name": "stderr",
          "text": [
            "Using TensorFlow backend.\n"
          ]
        },
        {
          "output_type": "stream",
          "name": "stdout",
          "text": [
            "Collecting numpy==1.16.1\n",
            "  Downloading numpy-1.16.1-cp37-cp37m-manylinux1_x86_64.whl (17.3 MB)\n",
            "\u001b[K     |████████████████████████████████| 17.3 MB 48.9 MB/s \n",
            "\u001b[?25hInstalling collected packages: numpy\n",
            "  Attempting uninstall: numpy\n",
            "    Found existing installation: numpy 1.21.5\n",
            "    Uninstalling numpy-1.21.5:\n",
            "      Successfully uninstalled numpy-1.21.5\n",
            "\u001b[31mERROR: pip's dependency resolver does not currently take into account all the packages that are installed. This behaviour is the source of the following dependency conflicts.\n",
            "lucid 0.3.10 requires umap-learn, which is not installed.\n",
            "tensorflow 1.15.2 requires gast==0.2.2, but you have gast 0.5.3 which is incompatible.\n",
            "xarray 0.18.2 requires numpy>=1.17, but you have numpy 1.16.1 which is incompatible.\n",
            "tables 3.7.0 requires numpy>=1.19.0, but you have numpy 1.16.1 which is incompatible.\n",
            "scikit-image 0.18.3 requires numpy>=1.16.5, but you have numpy 1.16.1 which is incompatible.\n",
            "pywavelets 1.3.0 requires numpy>=1.17.3, but you have numpy 1.16.1 which is incompatible.\n",
            "pyerfa 2.0.0.1 requires numpy>=1.17, but you have numpy 1.16.1 which is incompatible.\n",
            "pyarrow 6.0.1 requires numpy>=1.16.6, but you have numpy 1.16.1 which is incompatible.\n",
            "pandas 1.3.5 requires numpy>=1.17.3; platform_machine != \"aarch64\" and platform_machine != \"arm64\" and python_version < \"3.10\", but you have numpy 1.16.1 which is incompatible.\n",
            "kapre 0.3.7 requires numpy>=1.18.5, but you have numpy 1.16.1 which is incompatible.\n",
            "kapre 0.3.7 requires tensorflow>=2.0.0, but you have tensorflow 1.15.2 which is incompatible.\n",
            "jaxlib 0.3.2+cuda11.cudnn805 requires numpy>=1.19, but you have numpy 1.16.1 which is incompatible.\n",
            "jax 0.3.4 requires numpy>=1.19, but you have numpy 1.16.1 which is incompatible.\n",
            "datascience 0.10.6 requires folium==0.2.1, but you have folium 0.8.3 which is incompatible.\n",
            "cupy-cuda111 9.4.0 requires numpy<1.24,>=1.17, but you have numpy 1.16.1 which is incompatible.\n",
            "astropy 4.3.1 requires numpy>=1.17, but you have numpy 1.16.1 which is incompatible.\n",
            "albumentations 0.1.12 requires imgaug<0.2.7,>=0.2.5, but you have imgaug 0.2.9 which is incompatible.\u001b[0m\n",
            "Successfully installed numpy-1.16.1\n"
          ]
        },
        {
          "output_type": "display_data",
          "data": {
            "application/vnd.colab-display-data+json": {
              "pip_warning": {
                "packages": [
                  "numpy"
                ]
              }
            }
          },
          "metadata": {}
        }
      ]
    },
    {
      "cell_type": "markdown",
      "metadata": {
        "id": "t8j7e49vCWb4"
      },
      "source": [
        "## The IMDB dataset\n",
        "We'll be working with \"IMDB dataset\", a set of 50,000 highly-polarized reviews from the Internet Movie Database. They are split into 25,000 \n",
        "reviews for training and 25,000 reviews for testing, each set consisting in 50% negative and 50% positive reviews.\n",
        "\n",
        "The IMDB dataset comes packaged with Keras. It has already been preprocessed: the reviews (sequences of words) \n",
        "have been turned into sequences of integers, where each integer stands for a specific word in a dictionary. The following code will load the dataset (when you run it for the first time, about 80MB of data will be downloaded to your machine). \n",
        "\n",
        "The argument `num_words=10000` means that we will only keep the top 10,000 most frequently occurring words in the training data. Rare words \n",
        "will be discarded. This allows us to work with vector data of manageable size.\n",
        "\n",
        "The variables `train_data` and `test_data` are lists of reviews, each review being a list of word indices (encoding a sequence of words). \n",
        "`train_labels` and `test_labels` are lists of 0s and 1s, where 0 stands for \"negative\" and 1 stands for \"positive\":"
      ]
    },
    {
      "cell_type": "code",
      "metadata": {
        "id": "VdJu5e1ati9u",
        "colab": {
          "base_uri": "https://localhost:8080/"
        },
        "outputId": "68ff61ce-d2be-4dcc-9931-cfde361ccc6e"
      },
      "source": [
        "# load data from keras with the top 10K most frequent words\n",
        "(train_data, train_labels), (test_data, test_labels) = imdb.load_data(num_words=10000)"
      ],
      "execution_count": 2,
      "outputs": [
        {
          "output_type": "stream",
          "name": "stdout",
          "text": [
            "Downloading data from https://s3.amazonaws.com/text-datasets/imdb.npz\n",
            "17465344/17464789 [==============================] - 1s 0us/step\n"
          ]
        }
      ]
    },
    {
      "cell_type": "markdown",
      "metadata": {
        "id": "zr30I0dOti-G"
      },
      "source": [
        "## Preparing the data\n",
        "\n",
        "\n",
        "We cannot feed lists of integers into a neural network. We have to turn our lists into tensors. There are two ways we could do that:\n",
        "\n",
        "* We could pad our lists so that they all have the same length, and turn them into an integer tensor of shape `(samples, word_indices)`, \n",
        "then use as first layer in our network a layer capable of handling such integer tensors (the `Embedding` layer, which we will cover in \n",
        "detail later in the book).\n",
        "* We could one-hot-encode our lists to turn them into vectors of 0s and 1s. Concretely, this would mean for instance turning the sequence \n",
        "`[3, 5]` into a 10,000-dimensional vector that would be all-zeros except for indices 3 and 5, which would be ones. Then we could use as \n",
        "first layer in our network a `Dense` layer, capable of handling floating point vector data.\n",
        "\n",
        "We will go with the latter solution. Let's vectorize our data, which we will do manually for maximum clarity:"
      ]
    },
    {
      "cell_type": "code",
      "metadata": {
        "id": "kiatipd6ti-G"
      },
      "source": [
        "import numpy as np\n",
        "\n",
        "def vectorize_sequences(sequences, dimension=10000):\n",
        "    # Create an all-zero matrix of shape (len(sequences), dimension)\n",
        "    results = np.zeros((len(sequences), dimension))\n",
        "    for i, sequence in enumerate(sequences):\n",
        "        results[i, sequence] = 1.  # set specific indices of results[i] to 1s\n",
        "    return results\n",
        "\n",
        "# Our vectorized training data\n",
        "x_train = vectorize_sequences(train_data)\n",
        "# Our vectorized test data\n",
        "x_test = vectorize_sequences(test_data)"
      ],
      "execution_count": 3,
      "outputs": []
    },
    {
      "cell_type": "markdown",
      "metadata": {
        "id": "fxgnCdJcti-I"
      },
      "source": [
        "Here's what our samples look like now:"
      ]
    },
    {
      "cell_type": "code",
      "metadata": {
        "id": "RMvhJk95ti-I",
        "colab": {
          "base_uri": "https://localhost:8080/"
        },
        "outputId": "451b4cd5-9269-415c-95ed-d2a1bf5a371c"
      },
      "source": [
        "x_train[0]"
      ],
      "execution_count": 4,
      "outputs": [
        {
          "output_type": "execute_result",
          "data": {
            "text/plain": [
              "array([0., 1., 1., ..., 0., 0., 0.])"
            ]
          },
          "metadata": {},
          "execution_count": 4
        }
      ]
    },
    {
      "cell_type": "markdown",
      "metadata": {
        "id": "5PbO4KJrti-L"
      },
      "source": [
        "We should also vectorize our labels, which is straightforward:"
      ]
    },
    {
      "cell_type": "code",
      "metadata": {
        "id": "8aKIiHHnti-L"
      },
      "source": [
        "# Our vectorized labels\n",
        "y_train = np.asarray(train_labels).astype('float32')\n",
        "y_test = np.asarray(test_labels).astype('float32')"
      ],
      "execution_count": 5,
      "outputs": []
    },
    {
      "cell_type": "markdown",
      "metadata": {
        "id": "4Y-KPflwti-M"
      },
      "source": [
        "Now our data is ready to be fed into a neural network."
      ]
    },
    {
      "cell_type": "markdown",
      "metadata": {
        "id": "5KG2v6gGti-M"
      },
      "source": [
        "## Building our network\n",
        "\n",
        "\n",
        "Our input data is simply vectors, and our labels are scalars (1s and 0s): this is the easiest setup you will ever encounter. A type of \n",
        "network that performs well on such a problem would be a simple stack of fully-connected (`Dense`) layers with `relu` activations: `Dense(16, \n",
        "activation='relu')`\n",
        "\n",
        "The argument being passed to each `Dense` layer (16) is the number of \"hidden units\" of the layer. What's a hidden unit? It's a dimension \n",
        "in the representation space of the layer. You may remember from the previous chapter that each such `Dense` layer with a `relu` activation implements \n",
        "the following chain of tensor operations:\n",
        "\n",
        "`output = relu(dot(W, input) + b)`\n",
        "\n",
        "Having 16 hidden units means that the weight matrix `W` will have shape `(input_dimension, 16)`, i.e. the dot product with `W` will project the \n",
        "input data onto a 16-dimensional representation space (and then we would add the bias vector `b` and apply the `relu` operation). You can \n",
        "intuitively understand the dimensionality of your representation space as \"how much freedom you are allowing the network to have when \n",
        "learning internal representations\". Having more hidden units (a higher-dimensional representation space) allows your network to learn more \n",
        "complex representations, but it makes your network more computationally expensive and may lead to learning unwanted patterns (patterns that \n",
        "will improve performance on the training data but not on the test data).\n",
        "\n",
        "There are two key architecture decisions to be made about such stack of dense layers:\n",
        "\n",
        "* How many layers to use.\n",
        "* How many \"hidden units\" to chose for each layer.\n",
        "\n",
        "In the next chapter, you will learn formal principles to guide you in making these choices. \n",
        "For the time being, you will have to trust us with the following architecture choice: \n",
        "two intermediate layers with 16 hidden units each, \n",
        "and a third layer which will output the scalar prediction regarding the sentiment of the current review. \n",
        "The intermediate layers will use `relu` as their \"activation function\", \n",
        "and the final layer will use a sigmoid activation so as to output a probability \n",
        "(a score between 0 and 1, indicating how likely the sample is to have the target \"1\", i.e. how likely the review is to be positive). \n",
        "A `relu` (rectified linear unit) is a function meant to zero-out negative values, \n",
        "while a sigmoid \"squashes\" arbitrary values into the `[0, 1]` interval, thus outputting something that can be interpreted as a probability."
      ]
    },
    {
      "cell_type": "markdown",
      "metadata": {
        "id": "8mTDuhMNti-N"
      },
      "source": [
        "Here's what our network looks like:\n",
        "\n",
        "![3-layer network](https://s3.amazonaws.com/book.keras.io/img/ch3/3_layer_network.png)"
      ]
    },
    {
      "cell_type": "markdown",
      "metadata": {
        "id": "qgtaJ1lJti-N"
      },
      "source": [
        "And here's the Keras implementation, very similar to the MNIST example you saw previously:"
      ]
    },
    {
      "cell_type": "code",
      "metadata": {
        "id": "IA4J8BHZti-N"
      },
      "source": [
        "from keras import models\n",
        "from keras import layers\n",
        "\n",
        "# TODO: build the neural network with two hidden layers and relu as the activation function.\n",
        "model = models.Sequential()\n",
        "model.add(layers.Dense(16, activation='relu', input_shape=(10000,)))\n",
        "model.add(layers.Dense(16, activation='relu'))\n",
        "model.add(layers.Dense(1, activation='sigmoid'))\n"
      ],
      "execution_count": 6,
      "outputs": []
    },
    {
      "cell_type": "markdown",
      "metadata": {
        "id": "Hpye3Unsti-O"
      },
      "source": [
        "\n",
        "Lastly, we need to pick a loss function and an optimizer. Since we are facing a binary classification problem and the output of our network \n",
        "is a probability (we end our network with a single-unit layer with a sigmoid activation), is it best to use the `binary_crossentropy` loss. \n",
        "It isn't the only viable choice: you could use, for instance, `mean_squared_error`. But crossentropy is usually the best choice when you \n",
        "are dealing with models that output probabilities. Crossentropy is a quantity from the field of Information Theory, that measures the \"distance\" \n",
        "between probability distributions, or in our case, between the ground-truth distribution and our predictions.\n",
        "\n",
        "Here's the step where we configure our model with the `rmsprop` optimizer and the `binary_crossentropy` loss function. Note that we will \n",
        "also monitor accuracy during training."
      ]
    },
    {
      "cell_type": "code",
      "metadata": {
        "id": "ro8betQOti-P"
      },
      "source": [
        "# TODO: compile the network with optimizer, loss and metrics specified.\n",
        "model.compile(\n",
        "    optimizer = 'rmsprop', \n",
        "    loss='binary_crossentropy', \n",
        "    metrics = ['accuracy']\n",
        ")"
      ],
      "execution_count": 7,
      "outputs": []
    },
    {
      "cell_type": "markdown",
      "metadata": {
        "id": "fjli5H3oti-R"
      },
      "source": [
        "We are passing our optimizer, loss function and metrics as strings, which is possible because `rmsprop`, `binary_crossentropy` and \n",
        "`accuracy` are packaged as part of Keras. Sometimes you may want to configure the parameters of your optimizer, or pass a custom loss \n",
        "function or metric function. This former can be done by passing an optimizer class instance as the `optimizer` argument, and the latter can be done by passing function objects as the `loss` or `metrics` arguments:"
      ]
    },
    {
      "cell_type": "code",
      "metadata": {
        "id": "3sPE8_futi-R"
      },
      "source": [
        "from keras import optimizers\n",
        "from keras import losses\n",
        "from keras import metrics\n",
        "\n",
        "model.compile(optimizer=optimizers.RMSprop(lr=0.001),\n",
        "              loss=losses.binary_crossentropy,\n",
        "              metrics=[metrics.binary_accuracy])"
      ],
      "execution_count": 8,
      "outputs": []
    },
    {
      "cell_type": "markdown",
      "metadata": {
        "id": "tNHxBqq-ti-V"
      },
      "source": [
        "## Validating our approach\n",
        "\n",
        "In order to monitor during training the accuracy of the model on data that it has never seen before, we will create a \"validation set\" by \n",
        "setting apart 10,000 samples from the original training data:"
      ]
    },
    {
      "cell_type": "code",
      "metadata": {
        "id": "gWzjtP3Fti-W"
      },
      "source": [
        "x_val = x_train[:10000]\n",
        "partial_x_train = x_train[10000:]\n",
        "\n",
        "y_val = y_train[:10000]\n",
        "partial_y_train = y_train[10000:]"
      ],
      "execution_count": 9,
      "outputs": []
    },
    {
      "cell_type": "markdown",
      "metadata": {
        "collapsed": true,
        "id": "1G_joxKpti-Y"
      },
      "source": [
        "We will now train our model for 20 epochs (20 iterations over all samples in the `x_train` and `y_train` tensors), in mini-batches of 512 \n",
        "samples. At this same time we will monitor loss and accuracy on the 10,000 samples that we set apart. This is done by passing the \n",
        "validation data as the `validation_data` argument:"
      ]
    },
    {
      "cell_type": "code",
      "metadata": {
        "id": "cnw3p-5cti-Y",
        "colab": {
          "base_uri": "https://localhost:8080/"
        },
        "outputId": "08f807df-5918-403f-e9b2-352f977dc54b"
      },
      "source": [
        "# TODO: train the neural network and store the result to a variable *history*\n",
        "\n",
        "history = model.fit(\n",
        "    partial_x_train, \n",
        "    partial_y_train, \n",
        "    epochs=20, \n",
        "    batch_size=512, \n",
        "    validation_data=(x_val, y_val)\n",
        ")"
      ],
      "execution_count": 10,
      "outputs": [
        {
          "output_type": "stream",
          "name": "stdout",
          "text": [
            "Train on 15000 samples, validate on 10000 samples\n",
            "Epoch 1/20\n",
            "15000/15000 [==============================] - 2s 143us/step - loss: 0.5052 - binary_accuracy: 0.7978 - val_loss: 0.3798 - val_binary_accuracy: 0.8667\n",
            "Epoch 2/20\n",
            "15000/15000 [==============================] - 1s 83us/step - loss: 0.2988 - binary_accuracy: 0.9059 - val_loss: 0.3013 - val_binary_accuracy: 0.8854\n",
            "Epoch 3/20\n",
            "15000/15000 [==============================] - 1s 84us/step - loss: 0.2193 - binary_accuracy: 0.9277 - val_loss: 0.2797 - val_binary_accuracy: 0.8892\n",
            "Epoch 4/20\n",
            "15000/15000 [==============================] - 1s 84us/step - loss: 0.1709 - binary_accuracy: 0.9449 - val_loss: 0.2732 - val_binary_accuracy: 0.8913\n",
            "Epoch 5/20\n",
            "15000/15000 [==============================] - 1s 83us/step - loss: 0.1387 - binary_accuracy: 0.9564 - val_loss: 0.2809 - val_binary_accuracy: 0.8876\n",
            "Epoch 6/20\n",
            "15000/15000 [==============================] - 1s 83us/step - loss: 0.1109 - binary_accuracy: 0.9669 - val_loss: 0.2974 - val_binary_accuracy: 0.8851\n",
            "Epoch 7/20\n",
            "15000/15000 [==============================] - 1s 84us/step - loss: 0.0902 - binary_accuracy: 0.9737 - val_loss: 0.3141 - val_binary_accuracy: 0.8837\n",
            "Epoch 8/20\n",
            "15000/15000 [==============================] - 1s 82us/step - loss: 0.0714 - binary_accuracy: 0.9809 - val_loss: 0.4054 - val_binary_accuracy: 0.8705\n",
            "Epoch 9/20\n",
            "15000/15000 [==============================] - 1s 83us/step - loss: 0.0564 - binary_accuracy: 0.9859 - val_loss: 0.3652 - val_binary_accuracy: 0.8819\n",
            "Epoch 10/20\n",
            "15000/15000 [==============================] - 1s 84us/step - loss: 0.0475 - binary_accuracy: 0.9877 - val_loss: 0.3862 - val_binary_accuracy: 0.8780\n",
            "Epoch 11/20\n",
            "15000/15000 [==============================] - 1s 83us/step - loss: 0.0331 - binary_accuracy: 0.9926 - val_loss: 0.4234 - val_binary_accuracy: 0.8787\n",
            "Epoch 12/20\n",
            "15000/15000 [==============================] - 1s 83us/step - loss: 0.0255 - binary_accuracy: 0.9953 - val_loss: 0.4589 - val_binary_accuracy: 0.8771\n",
            "Epoch 13/20\n",
            "15000/15000 [==============================] - 1s 82us/step - loss: 0.0182 - binary_accuracy: 0.9973 - val_loss: 0.5589 - val_binary_accuracy: 0.8554\n",
            "Epoch 14/20\n",
            "15000/15000 [==============================] - 1s 83us/step - loss: 0.0154 - binary_accuracy: 0.9977 - val_loss: 0.5133 - val_binary_accuracy: 0.8731\n",
            "Epoch 15/20\n",
            "15000/15000 [==============================] - 1s 83us/step - loss: 0.0098 - binary_accuracy: 0.9994 - val_loss: 0.5629 - val_binary_accuracy: 0.8745\n",
            "Epoch 16/20\n",
            "15000/15000 [==============================] - 1s 83us/step - loss: 0.0079 - binary_accuracy: 0.9992 - val_loss: 0.5977 - val_binary_accuracy: 0.8711\n",
            "Epoch 17/20\n",
            "15000/15000 [==============================] - 1s 82us/step - loss: 0.0041 - binary_accuracy: 0.9998 - val_loss: 0.7606 - val_binary_accuracy: 0.8597\n",
            "Epoch 18/20\n",
            "15000/15000 [==============================] - 1s 82us/step - loss: 0.0057 - binary_accuracy: 0.9989 - val_loss: 0.6629 - val_binary_accuracy: 0.8680\n",
            "Epoch 19/20\n",
            "15000/15000 [==============================] - 1s 83us/step - loss: 0.0070 - binary_accuracy: 0.9985 - val_loss: 0.6958 - val_binary_accuracy: 0.8685\n",
            "Epoch 20/20\n",
            "15000/15000 [==============================] - 1s 83us/step - loss: 0.0015 - binary_accuracy: 0.9999 - val_loss: 0.7229 - val_binary_accuracy: 0.8691\n"
          ]
        }
      ]
    },
    {
      "cell_type": "markdown",
      "metadata": {
        "id": "-huv7RWzti-c"
      },
      "source": [
        "On CPU, this will take less than two seconds per epoch -- training is over in 20 seconds. At the end of every epoch, there is a slight pause \n",
        "as the model computes its loss and accuracy on the 10,000 samples of the validation data.\n",
        "\n",
        "Note that the call to `model.fit()` returns a `History` object. This object has a member `history`, which is a dictionary containing data \n",
        "about everything that happened during training. Let's take a look at it:"
      ]
    },
    {
      "cell_type": "code",
      "metadata": {
        "id": "J43lBeIhti-d",
        "colab": {
          "base_uri": "https://localhost:8080/"
        },
        "outputId": "3f9d65c7-0b1c-4c8e-833e-1458bfea44f3"
      },
      "source": [
        "history_dict = history.history\n",
        "history_dict.keys()"
      ],
      "execution_count": 11,
      "outputs": [
        {
          "output_type": "execute_result",
          "data": {
            "text/plain": [
              "dict_keys(['val_loss', 'val_binary_accuracy', 'loss', 'binary_accuracy'])"
            ]
          },
          "metadata": {},
          "execution_count": 11
        }
      ]
    },
    {
      "cell_type": "markdown",
      "metadata": {
        "id": "a4mXcU2qti-f"
      },
      "source": [
        "It contains 4 entries: one per metric that was being monitored, during training and during validation. Let's use Matplotlib to plot the \n",
        "training and validation loss side by side, as well as the training and validation accuracy:"
      ]
    },
    {
      "cell_type": "code",
      "metadata": {
        "id": "cLrURyjrti-g",
        "colab": {
          "base_uri": "https://localhost:8080/",
          "height": 295
        },
        "outputId": "c6f7c414-91a0-4091-e5fa-83de20db6d6a"
      },
      "source": [
        "import matplotlib.pyplot as plt\n",
        "\n",
        "acc = history.history['binary_accuracy']\n",
        "val_acc = history.history['val_binary_accuracy']\n",
        "loss = history.history['loss']\n",
        "val_loss = history.history['val_loss']\n",
        "\n",
        "epochs = range(1, len(acc) + 1)\n",
        "\n",
        "# \"bo\" is for \"blue dot\"\n",
        "plt.plot(epochs, loss, 'bo', label='Training loss')\n",
        "# b is for \"solid blue line\"\n",
        "plt.plot(epochs, val_loss, 'b', label='Validation loss')\n",
        "plt.title('Training and validation loss')\n",
        "plt.xlabel('Epochs')\n",
        "plt.ylabel('Loss')\n",
        "plt.legend()\n",
        "\n",
        "plt.show()"
      ],
      "execution_count": 12,
      "outputs": [
        {
          "output_type": "display_data",
          "data": {
            "text/plain": [
              "<Figure size 432x288 with 1 Axes>"
            ],
            "image/png": "[encoded data removed]"
          },
          "metadata": {
            "needs_background": "light"
          }
        }
      ]
    },
    {
      "cell_type": "code",
      "metadata": {
        "id": "9lqJWi6Nti-i",
        "colab": {
          "base_uri": "https://localhost:8080/",
          "height": 295
        },
        "outputId": "11951ddf-ac66-4c56-db4e-7bea1305461f"
      },
      "source": [
        "plt.clf()   # clear figure\n",
        "acc_values = history_dict['binary_accuracy']\n",
        "val_acc_values = history_dict['val_binary_accuracy']\n",
        "\n",
        "plt.plot(epochs, acc, 'bo', label='Training acc')\n",
        "plt.plot(epochs, val_acc, 'b', label='Validation acc')\n",
        "plt.title('Training and validation accuracy')\n",
        "plt.xlabel('Epochs')\n",
        "plt.ylabel('Loss')\n",
        "plt.legend()\n",
        "\n",
        "plt.show()"
      ],
      "execution_count": 13,
      "outputs": [
        {
          "output_type": "display_data",
          "data": {
            "text/plain": [
              "<Figure size 432x288 with 1 Axes>"
            ],
            "image/png": "[encoded data removed]"
          },
          "metadata": {
            "needs_background": "light"
          }
        }
      ]
    },
    {
      "cell_type": "markdown",
      "metadata": {
        "id": "dSF8WqINti-j"
      },
      "source": [
        "\n",
        "The dots are the training loss and accuracy, while the solid lines are the validation loss and accuracy. Note that your own results may vary \n",
        "slightly due to a different random initialization of your network.\n",
        "\n",
        "As you can see, the training loss decreases with every epoch and the training accuracy increases with every epoch. That's what you would \n",
        "expect when running gradient descent optimization -- the quantity you are trying to minimize should get lower with every iteration. But that \n",
        "isn't the case for the validation loss and accuracy: they seem to peak at the fourth epoch. This is an example of what we were warning \n",
        "against earlier: a model that performs better on the training data isn't necessarily a model that will do better on data it has never seen \n",
        "before. In precise terms, what you are seeing is \"overfitting\": after the second epoch, we are over-optimizing on the training data, and we \n",
        "ended up learning representations that are specific to the training data and do not generalize to data outside of the training set.\n",
        "\n",
        "In this case, to prevent overfitting, we could simply stop training after three epochs. In general, there is a range of techniques you can \n",
        "leverage to mitigate overfitting, which we will cover in the next chapter.\n",
        "\n",
        "Let's train a new network from scratch for four epochs, then evaluate it on our test data:"
      ]
    },
    {
      "cell_type": "code",
      "metadata": {
        "id": "DXhhCUwUti-j",
        "colab": {
          "base_uri": "https://localhost:8080/"
        },
        "outputId": "d73cec4d-17b8-4a5a-d705-c1b7f995daf2"
      },
      "source": [
        "# TODO: retrain the model with only 4 epochs to prevent overfitting.\n",
        "\n",
        "model = models.Sequential()\n",
        "model.add(layers.Dense(16,  activation='relu', input_shape=(10000,)))\n",
        "model.add(layers.Dense(16, activation='relu'))\n",
        "model.add(layers.Dense(1, activation='sigmoid'))\n",
        "\n",
        "model.compile(\n",
        "    optimizer = 'rmsprop', \n",
        "    loss='binary_crossentropy', \n",
        "    metrics=['accuracy']\n",
        ")\n",
        "\n",
        "\n",
        "model.fit(\n",
        "    partial_x_train, \n",
        "    partial_y_train, \n",
        "    epochs=4, \n",
        "    batch_size=512, \n",
        "    validation_data=(x_val, y_val)\n",
        ")"
      ],
      "execution_count": 14,
      "outputs": [
        {
          "output_type": "stream",
          "name": "stdout",
          "text": [
            "Train on 15000 samples, validate on 10000 samples\n",
            "Epoch 1/4\n",
            "15000/15000 [==============================] - 1s 91us/step - loss: 0.5762 - accuracy: 0.7185 - val_loss: 0.4554 - val_accuracy: 0.8500\n",
            "Epoch 2/4\n",
            "15000/15000 [==============================] - 1s 86us/step - loss: 0.3685 - accuracy: 0.8960 - val_loss: 0.3411 - val_accuracy: 0.8824\n",
            "Epoch 3/4\n",
            "15000/15000 [==============================] - 1s 84us/step - loss: 0.2556 - accuracy: 0.9254 - val_loss: 0.3122 - val_accuracy: 0.8791\n",
            "Epoch 4/4\n",
            "15000/15000 [==============================] - 1s 85us/step - loss: 0.1947 - accuracy: 0.9412 - val_loss: 0.2871 - val_accuracy: 0.8889\n"
          ]
        },
        {
          "output_type": "execute_result",
          "data": {
            "text/plain": [
              "<keras.callbacks.callbacks.History at 0x7f3a5a095f90>"
            ]
          },
          "metadata": {},
          "execution_count": 14
        }
      ]
    },
    {
      "cell_type": "code",
      "metadata": {
        "id": "pSp9omMHti-l",
        "colab": {
          "base_uri": "https://localhost:8080/"
        },
        "outputId": "da77132b-660f-4d27-aaab-b437074ea261"
      },
      "source": [
        "results = model.evaluate(x_test, y_test)\n",
        "print(results)"
      ],
      "execution_count": 15,
      "outputs": [
        {
          "output_type": "stream",
          "name": "stdout",
          "text": [
            "25000/25000 [==============================] - 2s 96us/step\n",
            "[0.31014604922294614, 0.8763200044631958]\n"
          ]
        }
      ]
    },
    {
      "cell_type": "markdown",
      "metadata": {
        "id": "KR9jF2Qtti-n"
      },
      "source": [
        "Our fairly naive approach achieves an accuracy of 88%. With state-of-the-art approaches, one should be able to get close to 95%."
      ]
    },
    {
      "cell_type": "markdown",
      "metadata": {
        "id": "ZjhK7Rtpti-n"
      },
      "source": [
        "## Using a trained network to generate predictions on new data\n",
        "\n",
        "After having trained a network, you will want to use it in a practical setting. You can generate the likelihood of reviews being positive \n",
        "by using the `predict` method:"
      ]
    },
    {
      "cell_type": "code",
      "metadata": {
        "id": "m8HxTv2cti-n",
        "colab": {
          "base_uri": "https://localhost:8080/"
        },
        "outputId": "a26efd1f-8352-419a-c7f7-efc9369826a1"
      },
      "source": [
        "model.predict(x_test)"
      ],
      "execution_count": 16,
      "outputs": [
        {
          "output_type": "execute_result",
          "data": {
            "text/plain": [
              "array([[0.21554476],\n",
              "       [0.99959993],\n",
              "       [0.9378567 ],\n",
              "       ...,\n",
              "       [0.17240655],\n",
              "       [0.14918426],\n",
              "       [0.53564894]], dtype=float32)"
            ]
          },
          "metadata": {},
          "execution_count": 16
        }
      ]
    },
    {
      "cell_type": "markdown",
      "metadata": {
        "id": "EvXDQm7Bti-p"
      },
      "source": [
        "As you can see, the network is very confident for some samples (0.99 or more, or 0.01 or less) but less confident for others (0.6, 0.4). \n"
      ]
    },
    {
      "cell_type": "markdown",
      "metadata": {
        "id": "cGIBfhcGti-q"
      },
      "source": [
        "## Further experiments\n",
        "\n",
        "\n",
        "* We were using 2 hidden layers. Try to use 1 or 3 hidden layers and see how it affects validation and test accuracy.\n",
        "* Try to use layers with more hidden units or less hidden units: 32 units, 64 units...\n",
        "* Try to use the `mse` loss function instead of `binary_crossentropy`.\n",
        "* Try to use the `tanh` activation (an activation that was popular in the early days of neural networks) instead of `relu`.\n",
        "\n",
        "These experiments will help convince you that the architecture choices we have made are all fairly reasonable, although they can still be \n",
        "improved!"
      ]
    },
    {
      "cell_type": "markdown",
      "metadata": {
        "id": "CDVUAFTAti-q"
      },
      "source": [
        "## Conclusions\n",
        "\n",
        "\n",
        "Here's what you should take away from this example:\n",
        "\n",
        "* There's usually quite a bit of preprocessing you need to do on your raw data in order to be able to feed it -- as tensors -- into a neural \n",
        "network. In the case of sequences of words, they can be encoded as binary vectors -- but there are other encoding options too.\n",
        "* Stacks of `Dense` layers with `relu` activations can solve a wide range of problems (including sentiment classification), and you will \n",
        "likely use them frequently.\n",
        "* In a binary classification problem (two output classes), your network should end with a `Dense` layer with 1 unit and a `sigmoid` activation, \n",
        "i.e. the output of your network should be a scalar between 0 and 1, encoding a probability.\n",
        "* With such a scalar sigmoid output, on a binary classification problem, the loss function you should use is `binary_crossentropy`.\n",
        "* The `rmsprop` optimizer is generally a good enough choice of optimizer, whatever your problem. That's one less thing for you to worry \n",
        "about.\n",
        "* As they get better on their training data, neural networks eventually start _overfitting_ and end up obtaining increasingly worse results on data \n",
        "never-seen-before. Make sure to always monitor performance on data that is outside of the training set.\n"
      ]
    },
    {
      "cell_type": "code",
      "source": [
        ""
      ],
      "metadata": {
        "id": "PeFlOy-SIaGd"
      },
      "execution_count": null,
      "outputs": []
    }
  ]
}